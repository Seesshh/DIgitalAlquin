{
 "cells": [
  {
   "cell_type": "code",
   "execution_count": null,
   "id": "9645903f-1255-483b-b656-a3f00e3161d5",
   "metadata": {},
   "outputs": [],
   "source": [
    "import pytesseract \n",
    "import cw2\n"
   ]
  },
  {
   "cell_type": "code",
   "execution_count": 1,
   "id": "6fd79978-59db-4ac1-852d-1e852a8c33bc",
   "metadata": {},
   "outputs": [
    {
     "ename": "ModuleNotFoundError",
     "evalue": "No module named 'PyPDF2'",
     "output_type": "error",
     "traceback": [
      "\u001b[0;31m---------------------------------------------------------------------------\u001b[0m",
      "\u001b[0;31mModuleNotFoundError\u001b[0m                       Traceback (most recent call last)",
      "Cell \u001b[0;32mIn[1], line 1\u001b[0m\n\u001b[0;32m----> 1\u001b[0m \u001b[38;5;28;01mfrom\u001b[39;00m \u001b[38;5;21;01mPyPDF2\u001b[39;00m \u001b[38;5;28;01mimport\u001b[39;00m PdfWriter, PdfReader\n\u001b[1;32m      3\u001b[0m inputpdf \u001b[38;5;241m=\u001b[39m PdfReader(\u001b[38;5;28mopen\u001b[39m(\u001b[38;5;124m\"\u001b[39m\u001b[38;5;124mLetters.pdf\u001b[39m\u001b[38;5;124m\"\u001b[39m, \u001b[38;5;124m\"\u001b[39m\u001b[38;5;124mrb\u001b[39m\u001b[38;5;124m\"\u001b[39m))\n\u001b[1;32m      5\u001b[0m \u001b[38;5;28;01mfor\u001b[39;00m i \u001b[38;5;129;01min\u001b[39;00m \u001b[38;5;28mrange\u001b[39m(inputpdf\u001b[38;5;241m.\u001b[39mnumPages):\n",
      "\u001b[0;31mModuleNotFoundError\u001b[0m: No module named 'PyPDF2'"
     ]
    }
   ],
   "source": []
  },
  {
   "cell_type": "code",
   "execution_count": 2,
   "id": "e9ea67e1-b2f7-46e0-9558-2ea8845343b9",
   "metadata": {},
   "outputs": [
    {
     "name": "stdout",
     "output_type": "stream",
     "text": [
      "Collecting PyPDF2\n",
      "  Downloading pypdf2-3.0.1-py3-none-any.whl.metadata (6.8 kB)\n",
      "Downloading pypdf2-3.0.1-py3-none-any.whl (232 kB)\n",
      "\u001b[2K   \u001b[90m━━━━━━━━━━━━━━━━━━━━━━━━━━━━━━━━━━━━━━━━\u001b[0m \u001b[32m232.6/232.6 kB\u001b[0m \u001b[31m1.9 MB/s\u001b[0m eta \u001b[36m0:00:00\u001b[0ma \u001b[36m0:00:01\u001b[0m\n",
      "\u001b[?25hInstalling collected packages: PyPDF2\n",
      "Successfully installed PyPDF2-3.0.1\n"
     ]
    }
   ],
   "source": [
    "!pip install PyPDF2\n"
   ]
  },
  {
   "cell_type": "code",
   "execution_count": 10,
   "id": "9a88b3c5-cf58-4d71-b368-7be6923b3d69",
   "metadata": {},
   "outputs": [
    {
     "name": "stdout",
     "output_type": "stream",
     "text": [
      "PDF split successfully!\n"
     ]
    }
   ],
   "source": [
    "from PyPDF2 import PdfReader, PdfWriter\n",
    "import os\n",
    "\n",
    "# Open the input PDF\n",
    "inputpdf = PdfReader(\"Letters.pdf\")\n",
    "\n",
    "# Initialize starting value for x\n",
    "x = 17\n",
    "\n",
    "# Ensure the output directory exists\n",
    "output_dir = \"Letter_pages\"\n",
    "os.makedirs(output_dir, exist_ok=True)\n",
    "\n",
    "# Loop through all pages of the input PDF\n",
    "for i in range(len(inputpdf.pages)):\n",
    "    # Format y based on the value of x\n",
    "    if x < 100:\n",
    "        y = f\"0{x}\"\n",
    "    else:\n",
    "        y = f\"{x}\"\n",
    "\n",
    "    # Prepare the output writer and add the current page\n",
    "    output = PdfWriter()\n",
    "    output.add_page(inputpdf.pages[i])\n",
    "\n",
    "    # Create output file path\n",
    "    output_file = os.path.join(output_dir, f\"mgh_page_{y}.pdf\")\n",
    "\n",
    "    # Write the single-page PDF\n",
    "    with open(output_file, \"wb\") as outputStream:\n",
    "        output.write(outputStream)\n",
    "\n",
    "    # Increment x\n",
    "    x += 1\n",
    "\n",
    "print(\"PDF split successfully!\")\n"
   ]
  },
  {
   "cell_type": "code",
   "execution_count": 4,
   "id": "629fdaa8-694b-4861-ada2-94e32a45098c",
   "metadata": {},
   "outputs": [],
   "source": [
    "import glob\n",
    "\n",
    "# Retrieve all PDF files in the specified directory\n",
    "files = glob.glob(\"Letter_pages/*.pdf\")\n",
    "\n",
    "# Print the list of files\n",
    "\n",
    "    # print(f\"Processing: {file}\")\n"
   ]
  },
  {
   "cell_type": "code",
   "execution_count": 2,
   "id": "75a8b40e-e307-46f4-bf8d-6c8a0ce5d7b1",
   "metadata": {},
   "outputs": [
    {
     "name": "stdout",
     "output_type": "stream",
     "text": [
      "Current environment PATH:\n",
      "/Users/yuktaashok/.nvm/versions/node/v20.17.0/bin:/opt/anaconda3/bin:/opt/anaconda3/condabin:/Library/Frameworks/Python.framework/Versions/3.12/bin:/usr/local/bin:/System/Cryptexes/App/usr/bin:/usr/bin:/bin:/usr/sbin:/sbin:/var/run/com.apple.security.cryptexd/codex.system/bootstrap/usr/local/bin:/var/run/com.apple.security.cryptexd/codex.system/bootstrap/usr/bin:/var/run/com.apple.security.cryptexd/codex.system/bootstrap/usr/appleinternal/bin:/Library/Apple/usr/bin\n"
     ]
    }
   ],
   "source": [
    "import os\n",
    "\n",
    "# Check the current environment PATH\n",
    "print(\"Current environment PATH:\")\n",
    "print(os.environ['PATH'])\n"
   ]
  },
  {
   "cell_type": "code",
   "execution_count": 9,
   "id": "6e7ca943-ae01-4175-a223-1a76b0880d44",
   "metadata": {},
   "outputs": [
    {
     "name": "stdout",
     "output_type": "stream",
     "text": [
      "Collecting opencv-python\n",
      "  Using cached opencv_python-4.10.0.84-cp37-abi3-macosx_11_0_arm64.whl.metadata (20 kB)\n",
      "Requirement already satisfied: numpy>=1.21.2 in /opt/anaconda3/lib/python3.11/site-packages (from opencv-python) (1.26.4)\n",
      "Downloading opencv_python-4.10.0.84-cp37-abi3-macosx_11_0_arm64.whl (54.8 MB)\n",
      "\u001b[2K   \u001b[90m━━━━━━━━━━━━━━━━━━━━━━━━━━━━━━━━━━━━━━━━\u001b[0m \u001b[32m54.8/54.8 MB\u001b[0m \u001b[31m679.6 kB/s\u001b[0m eta \u001b[36m0:00:00\u001b[0m00:01\u001b[0m00:02\u001b[0m\n",
      "\u001b[?25hInstalling collected packages: opencv-python\n",
      "Successfully installed opencv-python-4.10.0.84\n"
     ]
    }
   ],
   "source": [
    "!pip install opencv-python\n",
    "\n"
   ]
  },
  {
   "cell_type": "code",
   "execution_count": 12,
   "id": "0ac37c3d-5682-4531-a583-0a37381b28b6",
   "metadata": {},
   "outputs": [
    {
     "ename": "IndentationError",
     "evalue": "expected an indented block after 'for' statement on line 1 (2639845493.py, line 2)",
     "output_type": "error",
     "traceback": [
      "\u001b[0;36m  Cell \u001b[0;32mIn[12], line 2\u001b[0;36m\u001b[0m\n\u001b[0;31m    image = cv2.imread(file)\u001b[0m\n\u001b[0m    ^\u001b[0m\n\u001b[0;31mIndentationError\u001b[0m\u001b[0;31m:\u001b[0m expected an indented block after 'for' statement on line 1\n"
     ]
    }
   ],
   "source": [
    "for file in files[:1]:\n",
    "image = cv2.imread(file)"
   ]
  },
  {
   "cell_type": "code",
   "execution_count": 16,
   "id": "efee5c9d-e07e-4d84-81a3-c2e8e4669382",
   "metadata": {},
   "outputs": [
    {
     "name": "stdout",
     "output_type": "stream",
     "text": [
      "All pages saved in temp/\n"
     ]
    }
   ],
   "source": [
    "from pdf2image import convert_from_path\n",
    "import os\n",
    "\n",
    "# Path to your PDF file\n",
    "pdf_path = files[0]  # Assuming files[0] is the correct PDF path\n",
    "\n",
    "# Create output folder if it doesn't exist\n",
    "output_folder = 'temp/'\n",
    "if not os.path.exists(output_folder):\n",
    "    os.makedirs(output_folder)\n",
    "\n",
    "# Convert the PDF to images (adjust DPI as needed)\n",
    "pages = convert_from_path(pdf_path, dpi=500)\n",
    "\n",
    "# Save each page as a separate JPEG file\n",
    "for i, page in enumerate(pages):\n",
    "    output_path = os.path.join(output_folder, f'out_page_{i+1}.jpg')  # Save each page with a unique name\n",
    "    page.save(output_path, 'JPEG')\n",
    "\n",
    "print(f\"All pages saved in {output_folder}\")\n"
   ]
  },
  {
   "cell_type": "code",
   "execution_count": 15,
   "id": "d2af7c1d-3c5b-4926-9383-bd3d5a41e65d",
   "metadata": {},
   "outputs": [
    {
     "name": "stdout",
     "output_type": "stream",
     "text": [
      "Total pages in the PDF: 1\n"
     ]
    }
   ],
   "source": [
    "print(f\"Total pages in the PDF: {len(pages)}\")\n"
   ]
  },
  {
   "cell_type": "code",
   "execution_count": null,
   "id": "b9d63fa5-b7b0-4377-bb37-42012e005dde",
   "metadata": {},
   "outputs": [],
   "source": []
  }
 ],
 "metadata": {
  "kernelspec": {
   "display_name": "Python 3 (ipykernel)",
   "language": "python",
   "name": "python3"
  },
  "language_info": {
   "codemirror_mode": {
    "name": "ipython",
    "version": 3
   },
   "file_extension": ".py",
   "mimetype": "text/x-python",
   "name": "python",
   "nbconvert_exporter": "python",
   "pygments_lexer": "ipython3",
   "version": "3.11.7"
  }
 },
 "nbformat": 4,
 "nbformat_minor": 5
}
